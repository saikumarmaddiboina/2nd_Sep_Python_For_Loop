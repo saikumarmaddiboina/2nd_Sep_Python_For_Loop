{
 "cells": [
  {
   "cell_type": "markdown",
   "id": "bcb93325-cf24-4d2f-854f-5ee8033ac19e",
   "metadata": {},
   "source": [
    "Basic Level:"
   ]
  },
  {
   "cell_type": "markdown",
   "id": "4105938d-649e-4e7b-bf16-1a84f290caae",
   "metadata": {},
   "source": [
    "1. Write a Python program to print the numbers from 1 to 10 using a `for` loop."
   ]
  },
  {
   "cell_type": "code",
   "execution_count": 1,
   "id": "5df999fa-2b01-42c6-ae11-e6db4cbf6648",
   "metadata": {},
   "outputs": [
    {
     "name": "stdout",
     "output_type": "stream",
     "text": [
      "1\n",
      "2\n",
      "3\n",
      "4\n",
      "5\n",
      "6\n",
      "7\n",
      "8\n",
      "9\n",
      "10\n"
     ]
    }
   ],
   "source": [
    "for i in range(1,11):\n",
    "    print(i)"
   ]
  },
  {
   "cell_type": "markdown",
   "id": "27e54806-a2bb-4817-9067-217c27d7b360",
   "metadata": {},
   "source": [
    "2. Create a program that calculates the sum of all numbers in a list using a `for` loop."
   ]
  },
  {
   "cell_type": "code",
   "execution_count": 2,
   "id": "2c1ec280-c712-4946-a532-fbb5a1a5d886",
   "metadata": {},
   "outputs": [
    {
     "data": {
      "text/plain": [
       "45"
      ]
     },
     "execution_count": 2,
     "metadata": {},
     "output_type": "execute_result"
    }
   ],
   "source": [
    "l = [1,2,3,4,5,6,7,8,9]\n",
    "sum = 0\n",
    "for i in l:\n",
    "    sum = sum + i\n",
    "sum"
   ]
  },
  {
   "cell_type": "markdown",
   "id": "227ba39e-8115-45bf-a24a-ab25b6c33397",
   "metadata": {},
   "source": [
    "3. Write a program to print the characters of a string in reverse order using a `for` loop."
   ]
  },
  {
   "cell_type": "code",
   "execution_count": 12,
   "id": "e305aa98-74bb-4232-ae77-385386120d61",
   "metadata": {},
   "outputs": [
    {
     "name": "stdout",
     "output_type": "stream",
     "text": [
      "i\n",
      "a\n",
      "s\n"
     ]
    }
   ],
   "source": [
    "s = 'sai'\n",
    "s1=''\n",
    "for i in s[::-1]:\n",
    "    print(i)"
   ]
  },
  {
   "cell_type": "markdown",
   "id": "245e29b4-ddf9-495d-8e37-24be8d4c9a86",
   "metadata": {},
   "source": [
    "4. Develop a program that finds the factorial of a given number using a `for` loop."
   ]
  },
  {
   "cell_type": "code",
   "execution_count": 14,
   "id": "7b8949f8-b669-47e3-8a4c-79a512fa705b",
   "metadata": {},
   "outputs": [
    {
     "data": {
      "text/plain": [
       "720"
      ]
     },
     "execution_count": 14,
     "metadata": {},
     "output_type": "execute_result"
    }
   ],
   "source": [
    "n = 6\n",
    "f = 1\n",
    "for i in range(1,n+1):\n",
    "    f = f * i\n",
    "f"
   ]
  },
  {
   "cell_type": "markdown",
   "id": "3a00644d-a4b0-4fba-a136-2818e090be9c",
   "metadata": {},
   "source": [
    "5. Create a program to print the multiplication table of a given number using a `for` loop."
   ]
  },
  {
   "cell_type": "code",
   "execution_count": 18,
   "id": "1890049c-eae1-41b6-a0c0-6bef3a8fcff5",
   "metadata": {},
   "outputs": [
    {
     "name": "stdout",
     "output_type": "stream",
     "text": [
      "10 * 1 = 10\n",
      "10 * 2 = 20\n",
      "10 * 3 = 30\n",
      "10 * 4 = 40\n",
      "10 * 5 = 50\n",
      "10 * 6 = 60\n",
      "10 * 7 = 70\n",
      "10 * 8 = 80\n",
      "10 * 9 = 90\n",
      "10 * 10 = 100\n"
     ]
    }
   ],
   "source": [
    "n = 10\n",
    "\n",
    "for i in range(1,11):\n",
    "    m = n*i\n",
    "    print(n,'*',i,'=', m) "
   ]
  },
  {
   "cell_type": "markdown",
   "id": "1e306a9c-6d24-4223-8fb2-cf358a247c94",
   "metadata": {},
   "source": [
    "6. Write a program that counts the number of even and odd numbers in a list using a `for` loop."
   ]
  },
  {
   "cell_type": "code",
   "execution_count": 15,
   "id": "eb6505cb-2abd-4bcc-8983-cc374062cac6",
   "metadata": {},
   "outputs": [
    {
     "name": "stdout",
     "output_type": "stream",
     "text": [
      "<built-in method count of list object at 0x7fb2a6398080> <built-in method count of list object at 0x7fb2a6695540>\n",
      "4 5\n"
     ]
    }
   ],
   "source": [
    "Even_Odd_List = [1,2,3,4,5,6,7,8,9]\n",
    "Even = []\n",
    "Odd = []\n",
    "\n",
    "for i in Even_Odd_List:\n",
    "    if i % 2 == 0:\n",
    "        Even.append(i)\n",
    "    else:\n",
    "        Odd.append(i)\n",
    "print(Even.count,Odd.count)\n",
    "print(len(Even), len(Odd)) "
   ]
  },
  {
   "cell_type": "markdown",
   "id": "1e426807-985e-4671-8aa7-133d3a5e29c3",
   "metadata": {},
   "source": [
    "7. Develop a program that prints the squares of numbers from 1 to 5 using a `for` loop."
   ]
  },
  {
   "cell_type": "code",
   "execution_count": 16,
   "id": "97493bdc-1ebf-4802-b595-c5cca23df381",
   "metadata": {},
   "outputs": [
    {
     "data": {
      "text/plain": [
       "[1, 4, 9, 16, 25]"
      ]
     },
     "execution_count": 16,
     "metadata": {},
     "output_type": "execute_result"
    }
   ],
   "source": [
    "Sq = [x**2 for x in range(1,6)]\n",
    "Sq"
   ]
  },
  {
   "cell_type": "markdown",
   "id": "bdc83b80-4fb3-4adc-9578-b2154e18946f",
   "metadata": {},
   "source": [
    "8. Create a program to find the length of a string without using the `len()` function."
   ]
  },
  {
   "cell_type": "code",
   "execution_count": 17,
   "id": "7101d7fc-90fb-404f-b991-a59f5c136854",
   "metadata": {},
   "outputs": [
    {
     "data": {
      "text/plain": [
       "8"
      ]
     },
     "execution_count": 17,
     "metadata": {},
     "output_type": "execute_result"
    }
   ],
   "source": [
    "s = 'saikumar'\n",
    "\n",
    "length = 0\n",
    "\n",
    "for i in s:\n",
    "    length = length + 1\n",
    "length\n",
    "    "
   ]
  },
  {
   "cell_type": "markdown",
   "id": "7eb977e0-28a7-4ba0-861a-4171b4d15bd3",
   "metadata": {},
   "source": [
    "9. Write a program that calculates the average of a list of numbers using a `for` loop."
   ]
  },
  {
   "cell_type": "code",
   "execution_count": 19,
   "id": "d0fed41d-aad4-4a54-99e7-ff664e2a5a3b",
   "metadata": {},
   "outputs": [
    {
     "name": "stdout",
     "output_type": "stream",
     "text": [
      "Average is :  5.0\n"
     ]
    }
   ],
   "source": [
    "l = [1,2,3,4,5,6,7,8,9]\n",
    "sum = 0\n",
    "for x in l:\n",
    "    sum = sum+x\n",
    "print(\"Average is : \", sum/len(l))"
   ]
  },
  {
   "cell_type": "markdown",
   "id": "a3c8bb35-094e-404f-abe0-5f38464fbc0c",
   "metadata": {},
   "source": [
    "10. Develop a program that prints the first `n` Fibonacci numbers using a `for` loop."
   ]
  },
  {
   "cell_type": "code",
   "execution_count": 24,
   "id": "7bd83cd0-65c6-4fec-9347-31348cc134f4",
   "metadata": {},
   "outputs": [
    {
     "name": "stdout",
     "output_type": "stream",
     "text": [
      "0\n",
      "1\n",
      "1\n",
      "2\n",
      "3\n",
      "5\n",
      "8\n",
      "13\n",
      "21\n",
      "34\n"
     ]
    }
   ],
   "source": [
    "x = 0\n",
    "y = 1\n",
    "n = 10\n",
    "print(x)\n",
    "print(y)\n",
    "\n",
    "for i in range(1,n-1):\n",
    "    z = x+y\n",
    "    x =y\n",
    "    y=z\n",
    "    print(z)"
   ]
  },
  {
   "cell_type": "markdown",
   "id": "9dd9d424-53e9-4336-a5a7-d30c31ec2c5f",
   "metadata": {},
   "source": [
    "Intermediate Level:"
   ]
  },
  {
   "cell_type": "markdown",
   "id": "caea5cb8-b47c-4b35-bf21-07675b463c58",
   "metadata": {},
   "source": [
    "11. Write a program to check if a given list contains any duplicates using a `for` loop."
   ]
  },
  {
   "cell_type": "code",
   "execution_count": 28,
   "id": "9b48dfe4-2498-48b1-9d92-91b6dc33f474",
   "metadata": {},
   "outputs": [
    {
     "name": "stdout",
     "output_type": "stream",
     "text": [
      "have duplicates\n"
     ]
    }
   ],
   "source": [
    "l = [1,2,3,4,5,5,4,3]\n",
    "s = set()\n",
    "for i in l:\n",
    "    s.add(i)\n",
    "if len(l) != len(s):\n",
    "    print(\"have duplicates\")\n",
    "else:\n",
    "    print(\"no duplicates\")"
   ]
  },
  {
   "cell_type": "markdown",
   "id": "f09071dd-5fea-4e72-9f0f-15f735a216e9",
   "metadata": {},
   "source": [
    "12. Create a program that prints the prime numbers in a given range using a `for` loop."
   ]
  },
  {
   "cell_type": "code",
   "execution_count": 32,
   "id": "ddf03362-90e7-44ab-8de3-2a79a4d67e97",
   "metadata": {},
   "outputs": [
    {
     "name": "stdout",
     "output_type": "stream",
     "text": [
      "2\n",
      "3\n",
      "5\n",
      "7\n"
     ]
    }
   ],
   "source": [
    "import sympy\n",
    "\n",
    "prime = sympy.primerange(1,10)\n",
    "\n",
    "for i in prime:\n",
    "    print(i)\n"
   ]
  },
  {
   "cell_type": "markdown",
   "id": "512fa4e4-a2e8-47ba-9d54-b479e864aea2",
   "metadata": {},
   "source": [
    "13. Develop a program that counts the number of vowels in a string using a `for` loop."
   ]
  },
  {
   "cell_type": "code",
   "execution_count": 42,
   "id": "944ee929-6b6b-4496-bfef-5a9b775ba78a",
   "metadata": {},
   "outputs": [
    {
     "data": {
      "text/plain": [
       "8"
      ]
     },
     "execution_count": 42,
     "metadata": {},
     "output_type": "execute_result"
    }
   ],
   "source": [
    "s = 'saikumareiou'\n",
    "count = 0\n",
    "for i in s:\n",
    "    if i == 'a' or i == 'e' or i == 'i' or i == 'o' or i == 'u':\n",
    "        count = count + 1\n",
    "count"
   ]
  },
  {
   "cell_type": "markdown",
   "id": "c185a238-95ee-4e99-bfc2-8536c3cf76ee",
   "metadata": {},
   "source": [
    "14. Write a program to find the maximum element in a 2D list using a nested `for` loop."
   ]
  },
  {
   "cell_type": "code",
   "execution_count": 44,
   "id": "910139f7-c399-47d5-9393-d167780c8d88",
   "metadata": {},
   "outputs": [
    {
     "name": "stdout",
     "output_type": "stream",
     "text": [
      "9\n"
     ]
    }
   ],
   "source": [
    "l = [[1,2,3],[4,5,6],[7,8,9]]\n",
    "l1 =[]\n",
    "for i in l:\n",
    "    for j in i:\n",
    "        l1.append(j)\n",
    "print(max(l1))"
   ]
  },
  {
   "cell_type": "markdown",
   "id": "9b69e322-d0bf-49f7-b8d1-a5716e175de3",
   "metadata": {},
   "source": [
    "15. Create a program that removes all occurrences of a specific element from a list using a `for` loop."
   ]
  },
  {
   "cell_type": "code",
   "execution_count": 49,
   "id": "7da40757-43c8-4f0c-9258-c5fca13b6d87",
   "metadata": {},
   "outputs": [
    {
     "data": {
      "text/plain": [
       "[1, 2, 3, 3]"
      ]
     },
     "execution_count": 49,
     "metadata": {},
     "output_type": "execute_result"
    }
   ],
   "source": [
    "l = [1,2,4,3,4,3,4]\n",
    "n = 4\n",
    "for i in l:\n",
    "    if i == n:\n",
    "        l.remove(n)\n",
    "l\n"
   ]
  },
  {
   "cell_type": "markdown",
   "id": "4d8b4bfa-6ccb-4174-9229-2cba04f41f7b",
   "metadata": {},
   "source": [
    "16. Develop a program that generates a multiplication table for numbers from 1 to 5 using a nested `for` loop."
   ]
  },
  {
   "cell_type": "code",
   "execution_count": 50,
   "id": "af45f8a2-9eaf-483d-ab83-a56765ba75cc",
   "metadata": {},
   "outputs": [
    {
     "name": "stdout",
     "output_type": "stream",
     "text": [
      "1 * 1 = 1\n",
      "1 * 2 = 2\n",
      "1 * 3 = 3\n",
      "1 * 4 = 4\n",
      "1 * 5 = 5\n",
      "1 * 6 = 6\n",
      "1 * 7 = 7\n",
      "1 * 8 = 8\n",
      "1 * 9 = 9\n",
      "1 * 10 = 10\n",
      "2 * 1 = 2\n",
      "2 * 2 = 4\n",
      "2 * 3 = 6\n",
      "2 * 4 = 8\n",
      "2 * 5 = 10\n",
      "2 * 6 = 12\n",
      "2 * 7 = 14\n",
      "2 * 8 = 16\n",
      "2 * 9 = 18\n",
      "2 * 10 = 20\n",
      "3 * 1 = 3\n",
      "3 * 2 = 6\n",
      "3 * 3 = 9\n",
      "3 * 4 = 12\n",
      "3 * 5 = 15\n",
      "3 * 6 = 18\n",
      "3 * 7 = 21\n",
      "3 * 8 = 24\n",
      "3 * 9 = 27\n",
      "3 * 10 = 30\n",
      "4 * 1 = 4\n",
      "4 * 2 = 8\n",
      "4 * 3 = 12\n",
      "4 * 4 = 16\n",
      "4 * 5 = 20\n",
      "4 * 6 = 24\n",
      "4 * 7 = 28\n",
      "4 * 8 = 32\n",
      "4 * 9 = 36\n",
      "4 * 10 = 40\n",
      "5 * 1 = 5\n",
      "5 * 2 = 10\n",
      "5 * 3 = 15\n",
      "5 * 4 = 20\n",
      "5 * 5 = 25\n",
      "5 * 6 = 30\n",
      "5 * 7 = 35\n",
      "5 * 8 = 40\n",
      "5 * 9 = 45\n",
      "5 * 10 = 50\n"
     ]
    }
   ],
   "source": [
    "for i in range(1,6):\n",
    "    for j in range(1,11):\n",
    "        print(i,'*',j,'=',i*j)"
   ]
  },
  {
   "cell_type": "markdown",
   "id": "457fdd41-1e6f-4c98-8e83-1f832038b17d",
   "metadata": {},
   "source": [
    "17. Write a program that converts a list of Fahrenheit temperatures to Celsius using a `for` loop."
   ]
  },
  {
   "cell_type": "code",
   "execution_count": 54,
   "id": "0b3a1e36-fef7-4852-b8a3-ad5eea85d6af",
   "metadata": {},
   "outputs": [
    {
     "name": "stdout",
     "output_type": "stream",
     "text": [
      "[37.77777777777778, 93.33333333333333, 148.88888888888889, 204.44444444444446]\n"
     ]
    }
   ],
   "source": [
    "degree_fahrenheit = [100,200,300,400]\n",
    "degree_celsius = []\n",
    "for i in degree_fahrenheit:\n",
    "    degree_celsius.append((i-32)*5 / 9)\n",
    "print(degree_celsius)"
   ]
  },
  {
   "cell_type": "markdown",
   "id": "e760684c-3482-400f-861e-6b6b48c4307a",
   "metadata": {},
   "source": [
    "18. Create a program to print the common elements from two lists using a `for` loop."
   ]
  },
  {
   "cell_type": "code",
   "execution_count": 55,
   "id": "82e682f5-150a-4fd4-80d3-5033c98db268",
   "metadata": {},
   "outputs": [
    {
     "name": "stdout",
     "output_type": "stream",
     "text": [
      "1\n",
      "3\n",
      "5\n"
     ]
    }
   ],
   "source": [
    "l1 = [1,2,3,4,5]\n",
    "l2 = [1,3,5,6,7]\n",
    "\n",
    "for i in l1:\n",
    "    for j in l2:\n",
    "        if i == j:\n",
    "            print(i)"
   ]
  },
  {
   "cell_type": "markdown",
   "id": "0cf37727-d097-444d-b9d3-4231430e8148",
   "metadata": {},
   "source": [
    "19. Develop a program that prints the pattern of right-angled triangles using a `for` loop. Use ‘*’ to draw the\n",
    "pattern"
   ]
  },
  {
   "cell_type": "code",
   "execution_count": 57,
   "id": "2aa6a180-699e-4435-acba-6724f1d85904",
   "metadata": {},
   "outputs": [
    {
     "name": "stdout",
     "output_type": "stream",
     "text": [
      "*\n",
      "**\n",
      "***\n",
      "****\n",
      "*****\n"
     ]
    }
   ],
   "source": [
    "for i in range(1,6):\n",
    "    print(i*'*')"
   ]
  },
  {
   "cell_type": "markdown",
   "id": "711a1ca1-0e10-4ab1-8a9b-fc2e02ea6bcb",
   "metadata": {},
   "source": [
    "20. Write a program to find the greatest common divisor (GCD) of two numbers using a `for` loop."
   ]
  },
  {
   "cell_type": "code",
   "execution_count": 67,
   "id": "b7ac2435-919e-47e4-b7de-4f4220747c98",
   "metadata": {},
   "outputs": [
    {
     "name": "stdin",
     "output_type": "stream",
     "text": [
      "Enter the first number:  6\n",
      "Enter the second number:  8\n"
     ]
    },
    {
     "name": "stdout",
     "output_type": "stream",
     "text": [
      "The GCD of 6 and 8 is 2\n"
     ]
    }
   ],
   "source": [
    "def find_gcd(a, b):\n",
    "    while b:\n",
    "        a, b = b, a % b\n",
    "    return a\n",
    "\n",
    "# Input two numbers from the user\n",
    "num1 = int(input(\"Enter the first number: \"))\n",
    "num2 = int(input(\"Enter the second number: \"))\n",
    "\n",
    "# Calculate the GCD using the find_gcd function\n",
    "gcd = find_gcd(num1, num2)\n",
    "\n",
    "# Display the result\n",
    "print(f\"The GCD of {num1} and {num2} is {gcd}\")"
   ]
  },
  {
   "cell_type": "markdown",
   "id": "274e92d8-a022-44d4-ae55-1664e25ba012",
   "metadata": {},
   "source": [
    "Advanced Level:"
   ]
  },
  {
   "cell_type": "markdown",
   "id": "4f3a4e18-a4ba-4cd1-a1e1-240be8181143",
   "metadata": {},
   "source": [
    "21. Create a program that calculates the sum of the digits of numbers in a list using a list comprehension."
   ]
  },
  {
   "cell_type": "code",
   "execution_count": 76,
   "id": "f429e820-ff01-4873-8c52-f3761967814c",
   "metadata": {},
   "outputs": [
    {
     "data": {
      "text/plain": [
       "10"
      ]
     },
     "execution_count": 76,
     "metadata": {},
     "output_type": "execute_result"
    }
   ],
   "source": [
    "l = [1,2,3,4]\n",
    "sum = 0\n",
    "for i in l:\n",
    "    sum = sum + i\n",
    "sum\n"
   ]
  },
  {
   "cell_type": "markdown",
   "id": "18c1de12-77db-485d-a491-b3ee3c779f8f",
   "metadata": {},
   "source": [
    "22. Write a program to find the prime factors of a given number using a `for` loop and list comprehension."
   ]
  },
  {
   "cell_type": "code",
   "execution_count": 3,
   "id": "8acf641a-da67-4c7d-ac47-f465f8199222",
   "metadata": {},
   "outputs": [
    {
     "data": {
      "text/plain": [
       "[2, 3, 5]"
      ]
     },
     "execution_count": 3,
     "metadata": {},
     "output_type": "execute_result"
    }
   ],
   "source": [
    "import sympy\n",
    "prime_range = sympy.primerange(1,100)\n",
    "l = []\n",
    "mul = 1\n",
    "n = 60\n",
    "for i in prime_range:\n",
    "    if n % i == 0:\n",
    "        mul = mul*i\n",
    "        l.append(i)\n",
    "    while mul==n:\n",
    "        break\n",
    "l"
   ]
  },
  {
   "cell_type": "markdown",
   "id": "ca97d269-0033-4734-9c9c-5861af27c635",
   "metadata": {},
   "source": [
    "23. Develop a program that extracts unique elements from a list and stores them in a new list using a list\n",
    "comprehension."
   ]
  },
  {
   "cell_type": "code",
   "execution_count": 15,
   "id": "0486cdb3-1d11-487b-b418-452182aef053",
   "metadata": {},
   "outputs": [
    {
     "data": {
      "text/plain": [
       "{1, 2, 3}"
      ]
     },
     "execution_count": 15,
     "metadata": {},
     "output_type": "execute_result"
    }
   ],
   "source": [
    "l1 = [1,1,2,2,3,3,3]\n",
    "a = set([i for i in l1])\n",
    "a"
   ]
  },
  {
   "cell_type": "markdown",
   "id": "8a981115-c548-4ba6-b70e-c5ae75472eab",
   "metadata": {},
   "source": [
    "24. Create a program that generates a list of all palindromic numbers up to a specified limit using a list\n",
    "comprehension."
   ]
  },
  {
   "cell_type": "code",
   "execution_count": 4,
   "id": "48d56ede-51ab-42e3-8c57-e6120d043b9c",
   "metadata": {},
   "outputs": [
    {
     "name": "stdin",
     "output_type": "stream",
     "text": [
      "Enter the limit:  200\n"
     ]
    },
    {
     "data": {
      "text/plain": [
       "[0,\n",
       " 1,\n",
       " 2,\n",
       " 3,\n",
       " 4,\n",
       " 5,\n",
       " 6,\n",
       " 7,\n",
       " 8,\n",
       " 9,\n",
       " 11,\n",
       " 22,\n",
       " 33,\n",
       " 44,\n",
       " 55,\n",
       " 66,\n",
       " 77,\n",
       " 88,\n",
       " 99,\n",
       " 101,\n",
       " 111,\n",
       " 121,\n",
       " 131,\n",
       " 141,\n",
       " 151,\n",
       " 161,\n",
       " 171,\n",
       " 181,\n",
       " 191]"
      ]
     },
     "execution_count": 4,
     "metadata": {},
     "output_type": "execute_result"
    }
   ],
   "source": [
    "def is_palindrome(num):\n",
    "    return str(num) == str(num)[::-1]\n",
    "limit = int(input(\"Enter the limit: \"))\n",
    "\n",
    "a =[num for num in range(limit+1) if is_palindrome(num)]\n",
    "a"
   ]
  },
  {
   "cell_type": "markdown",
   "id": "8a1b9182-fa39-4aef-be99-87403b5b5c9f",
   "metadata": {},
   "source": [
    "25. Write a program to flatten a nested list using list comprehension."
   ]
  },
  {
   "cell_type": "code",
   "execution_count": 10,
   "id": "a7eda52c-3958-4b82-8e5a-9fac9d8db962",
   "metadata": {},
   "outputs": [
    {
     "data": {
      "text/plain": [
       "[1, 2, 3, 4, 5, 6, 6, 7, 8]"
      ]
     },
     "execution_count": 10,
     "metadata": {},
     "output_type": "execute_result"
    }
   ],
   "source": [
    "l =[[1,2,3],[4,5,6],[6,7,8]]\n",
    "[j for i in l for j in i]"
   ]
  },
  {
   "cell_type": "markdown",
   "id": "22097a75-7cd3-4fb0-a61f-e32dd4fe26bc",
   "metadata": {},
   "source": [
    "26. Develop a program that computes the sum of even and odd numbers in a list separately using list\n",
    "comprehension."
   ]
  },
  {
   "cell_type": "code",
   "execution_count": 15,
   "id": "dae0a1de-e663-423d-92d9-366610edc235",
   "metadata": {},
   "outputs": [
    {
     "name": "stdout",
     "output_type": "stream",
     "text": [
      "6\n",
      "4\n"
     ]
    }
   ],
   "source": [
    "l = [1,2,3,4]\n",
    "\n",
    "Even_Sum = sum([x for x in l if x % 2 == 0])\n",
    "print(Even_Sum)\n",
    "\n",
    "Odd_Sum = sum([x for x in l if x % 2 != 0])\n",
    "print(Odd_Sum)"
   ]
  },
  {
   "cell_type": "markdown",
   "id": "ecf04e77-b139-4ab1-bf39-2a3d21d4b116",
   "metadata": {},
   "source": [
    "27. Create a program that generates a list of squares of odd numbers between 1 and 10 using list\n",
    "comprehension."
   ]
  },
  {
   "cell_type": "code",
   "execution_count": 17,
   "id": "b2747287-e63b-4dd6-ac93-be61a8a0b7d2",
   "metadata": {},
   "outputs": [
    {
     "data": {
      "text/plain": [
       "[1, 9, 25, 49, 81]"
      ]
     },
     "execution_count": 17,
     "metadata": {},
     "output_type": "execute_result"
    }
   ],
   "source": [
    "l = list(range(1,11))\n",
    "\n",
    "[x**2 for x in l if x % 2 != 0]"
   ]
  },
  {
   "cell_type": "markdown",
   "id": "e501e57e-efc2-4a99-b539-a1ea7e6d1f19",
   "metadata": {},
   "source": [
    "28. Write a program that combines two lists into a dictionary using list comprehension."
   ]
  },
  {
   "cell_type": "code",
   "execution_count": 23,
   "id": "dd27f9ba-6c25-4825-acdd-12c1c8576f07",
   "metadata": {},
   "outputs": [
    {
     "data": {
      "text/plain": [
       "{'name': 'sai', 'age': 23, 'gender': 'male'}"
      ]
     },
     "execution_count": 23,
     "metadata": {},
     "output_type": "execute_result"
    }
   ],
   "source": [
    "keys = ['name','age','gender']\n",
    "values = ['sai', 23, 'male']\n",
    "\n",
    "my_dict = {keys[i]:values[i] for i in range(len(keys))}\n",
    "my_dict"
   ]
  },
  {
   "cell_type": "markdown",
   "id": "643af415-1425-4dac-889d-a2031ba86dd3",
   "metadata": {},
   "source": [
    "29. Develop a program that extracts the vowels from a string and stores them in a list using list comprehension."
   ]
  },
  {
   "cell_type": "code",
   "execution_count": 38,
   "id": "1b8dd8cd-a095-4a21-8d1f-e35324e7cf4b",
   "metadata": {},
   "outputs": [
    {
     "data": {
      "text/plain": [
       "['i', 'i', 'a', 'o', 'a', 'i', 'e', 'e']"
      ]
     },
     "execution_count": 38,
     "metadata": {},
     "output_type": "execute_result"
    }
   ],
   "source": [
    "s = 'pwskills is a coaching center'\n",
    "def extract_vowels(s):\n",
    "    \n",
    "    a = list([i for i in s if i == 'a' or i == 'e' or i =='i' or i == 'o' or i =='u'])\n",
    "    return a\n",
    "extract_vowels(s)"
   ]
  },
  {
   "cell_type": "markdown",
   "id": "7ae5baf6-de57-4e2e-8a33-35e103724f31",
   "metadata": {},
   "source": [
    "30. Create a program that removes all non-numeric characters from a list of strings using list comprehension."
   ]
  },
  {
   "cell_type": "code",
   "execution_count": 44,
   "id": "a28152c2-40ba-4082-9b69-b171fdb2a72e",
   "metadata": {},
   "outputs": [
    {
     "data": {
      "text/plain": [
       "['123', '138']"
      ]
     },
     "execution_count": 44,
     "metadata": {},
     "output_type": "execute_result"
    }
   ],
   "source": [
    "l =['sai123','kumar138']\n",
    "\n",
    "[''.join(j for j in i if j.isdigit()) for i in l]"
   ]
  },
  {
   "cell_type": "markdown",
   "id": "f29970d1-7162-42c5-9f17-4c9cf1bcac10",
   "metadata": {},
   "source": [
    "Challenge Level:"
   ]
  },
  {
   "cell_type": "markdown",
   "id": "3f7a2483-28f6-4f04-a5b1-cf4b11a0d823",
   "metadata": {},
   "source": [
    "31. Write a program to generate a list of prime numbers using the Sieve of Eratosthenes algorithm and list\n",
    "comprehension."
   ]
  },
  {
   "cell_type": "code",
   "execution_count": 46,
   "id": "65aad633-fc47-49ac-914b-4d530fae936c",
   "metadata": {},
   "outputs": [
    {
     "name": "stdin",
     "output_type": "stream",
     "text": [
      "Enter the limit:  10\n"
     ]
    },
    {
     "name": "stdout",
     "output_type": "stream",
     "text": [
      "Prime numbers up to 10: [2, 3, 5, 7]\n"
     ]
    }
   ],
   "source": [
    "def sieve_of_eratosthenes(limit):\n",
    "    sieve = [True] * (limit + 1)\n",
    "    sieve[0] = sieve[1] = False\n",
    "\n",
    "    for i in range(2, int(limit**0.5) + 1):\n",
    "        if sieve[i]:\n",
    "            for multiple in range(i * i, limit + 1, i):\n",
    "                sieve[multiple] = False\n",
    "\n",
    "    return [num for num, is_prime in enumerate(sieve) if is_prime]\n",
    "\n",
    "# Input the limit\n",
    "limit = int(input(\"Enter the limit: \"))\n",
    "\n",
    "if limit < 2:\n",
    "    print(\"There are no prime numbers for limits less than 2.\")\n",
    "else:\n",
    "    prime_numbers = sieve_of_eratosthenes(limit)\n",
    "    print(f\"Prime numbers up to {limit}: {prime_numbers}\")"
   ]
  },
  {
   "cell_type": "code",
   "execution_count": 5,
   "id": "b121a122-24e7-4dd6-91df-50aa17531dbf",
   "metadata": {},
   "outputs": [
    {
     "name": "stdout",
     "output_type": "stream",
     "text": [
      "Prime numbers up to 50 are: [2, 3, 5, 7, 11, 13, 17, 19, 23, 29, 31, 37, 41, 43, 47]\n"
     ]
    }
   ],
   "source": [
    "def is_prime(i):\n",
    "    \n",
    "    \n",
    "    return 'prime'\n",
    "num = 50\n",
    "\n",
    "[i for i in range(2,num+1) if is_prime(i)]"
   ]
  },
  {
   "cell_type": "markdown",
   "id": "99f1a750-42d3-41a8-a4d4-561cba33d479",
   "metadata": {},
   "source": [
    "32. Create a program that generates a list of all Pythagorean triplets up to a specified limit using list\n",
    "comprehension."
   ]
  },
  {
   "cell_type": "code",
   "execution_count": 3,
   "id": "8ab2b8cd-974a-47cb-9ddd-addbc9df82b1",
   "metadata": {},
   "outputs": [
    {
     "name": "stdin",
     "output_type": "stream",
     "text": [
      "Enter the limit:  12\n"
     ]
    },
    {
     "name": "stdout",
     "output_type": "stream",
     "text": [
      "Pythagorean triplets up to 12: [(3, 4, 5), (6, 8, 10)]\n"
     ]
    }
   ],
   "source": [
    "def generate_pythagorean_triplets(limit):\n",
    "    triplets = [(a, b, c) for a in range(1, limit + 1) for b in range(a, limit + 1) for c in range(b, limit + 1) if a**2 + b**2 == c**2]\n",
    "    return triplets\n",
    "\n",
    "# Input the limit\n",
    "limit = int(input(\"Enter the limit: \"))\n",
    "\n",
    "if limit < 3:\n",
    "    print(\"Pythagorean triplets are not defined for limits less than 3.\")\n",
    "else:\n",
    "    triplets = generate_pythagorean_triplets(limit)\n",
    "    print(f\"Pythagorean triplets up to {limit}: {triplets}\")\n"
   ]
  },
  {
   "cell_type": "markdown",
   "id": "dfc06f69-b2cc-4e6a-ace7-bf4e91d8035d",
   "metadata": {},
   "source": [
    "33. Develop a program that generates a list of all possible combinations of two lists using list comprehension."
   ]
  },
  {
   "cell_type": "code",
   "execution_count": 8,
   "id": "80101370-291d-4bf1-a0c3-68372b024188",
   "metadata": {},
   "outputs": [
    {
     "data": {
      "text/plain": [
       "[(1, 4), (1, 5), (1, 6), (2, 4), (2, 5), (2, 6), (3, 4), (3, 5), (3, 6)]"
      ]
     },
     "execution_count": 8,
     "metadata": {},
     "output_type": "execute_result"
    }
   ],
   "source": [
    "l1 = [1,2,3]\n",
    "l2 = [4,5,6]\n",
    "\n",
    "a= [(a,b) for a in l1 for b in l2]\n",
    "a"
   ]
  },
  {
   "cell_type": "markdown",
   "id": "d40f8c9d-223a-4d30-99d0-824357f8c615",
   "metadata": {},
   "source": [
    "34. Write a program that calculates the mean, median, and mode of a list of numbers using list\n",
    "comprehension."
   ]
  },
  {
   "cell_type": "code",
   "execution_count": 17,
   "id": "91809911-7164-47ba-a884-34e4c7db7a8c",
   "metadata": {},
   "outputs": [
    {
     "name": "stdout",
     "output_type": "stream",
     "text": [
      "4.461538461538462\n",
      "4\n",
      "4\n"
     ]
    }
   ],
   "source": [
    "l = [1,2,3,4,4,4,4,5,5,5,6,7,8]\n",
    "\n",
    "import statistics\n",
    "\n",
    "mean = statistics.mean([x for x in l])\n",
    "print(mean)\n",
    "\n",
    "median = statistics.median([x for x in l])\n",
    "print(median)\n",
    "\n",
    "mode = statistics.mode([x for x in l])\n",
    "print(mode)"
   ]
  },
  {
   "cell_type": "markdown",
   "id": "e81d3dec-c661-462f-94cf-2b2c59c2c983",
   "metadata": {},
   "source": [
    "35. Create a program that generates Pascal's triangle up to a specified number of rows using list\n",
    "comprehension."
   ]
  },
  {
   "cell_type": "code",
   "execution_count": 31,
   "id": "814c26bf-2a1a-4d9d-bea2-65529f2ed946",
   "metadata": {},
   "outputs": [
    {
     "name": "stdin",
     "output_type": "stream",
     "text": [
      "Enter the number of rows for Pascal's triangle:  10\n"
     ]
    },
    {
     "name": "stdout",
     "output_type": "stream",
     "text": [
      "              1               \n",
      "             1 1              \n",
      "            1 2 1             \n",
      "           1 3 3 1            \n",
      "          1 4 6 4 1           \n",
      "        1 5 10 10 5 1         \n",
      "       1 6 15 20 15 6 1       \n",
      "     1 7 21 35 35 21 7 1      \n",
      "    1 8 28 56 70 56 28 8 1    \n",
      " 1 9 36 84 126 126 84 36 9 1  \n"
     ]
    }
   ],
   "source": [
    "from math import comb\n",
    "\n",
    "num_rows = int(input(\"Enter the number of rows for Pascal's triangle: \"))\n",
    "\n",
    "triangle = [[comb(n, k) for k in range(n + 1)] for n in range(num_rows)]\n",
    "\n",
    "for row in triangle:\n",
    "    print(\" \".join(map(str, row)).center(num_rows * 3))"
   ]
  },
  {
   "cell_type": "markdown",
   "id": "d7dfbd00-39d6-4ee0-894e-c17b34c75c81",
   "metadata": {},
   "source": [
    "36. Develop a program that calculates the sum of the digits of a factorial of numbers from 1 to 5 using list\n",
    "comprehension."
   ]
  },
  {
   "cell_type": "code",
   "execution_count": 49,
   "id": "3a43347c-63f4-4f10-8390-81ef18a6c743",
   "metadata": {},
   "outputs": [
    {
     "data": {
      "text/plain": [
       "153"
      ]
     },
     "execution_count": 49,
     "metadata": {},
     "output_type": "execute_result"
    }
   ],
   "source": [
    "\n",
    "def factorial(n):\n",
    "    mul = 1\n",
    "    for i in range(1,n+1):\n",
    "        mul = mul * i\n",
    "    return mul\n",
    "\n",
    "sum([factorial(i) for i in range(1,6)])"
   ]
  },
  {
   "cell_type": "markdown",
   "id": "dbdd7ece-4f87-48ca-979c-39cb8679bcb8",
   "metadata": {},
   "source": [
    "37. Write a program that finds the longest word in a sentence using list comprehension."
   ]
  },
  {
   "cell_type": "code",
   "execution_count": 10,
   "id": "2bd3c7f3-4ac3-4943-8d30-773c370bc605",
   "metadata": {},
   "outputs": [
    {
     "data": {
      "text/plain": [
       "['Kumar']"
      ]
     },
     "execution_count": 10,
     "metadata": {},
     "output_type": "execute_result"
    }
   ],
   "source": [
    "s = \"I am Sai Kumar\"\n",
    "\n",
    "words = s.split()\n",
    "\n",
    "lon_word_length = max([len(i) for i in words])\n",
    "\n",
    "lon_word = [i for i in words if len(i) == lon_word_length]\n",
    "lon_word"
   ]
  },
  {
   "cell_type": "markdown",
   "id": "81b50604-1f6d-4ea4-af43-71480652ada1",
   "metadata": {},
   "source": [
    "38. Create a program that filters a list of strings to include only those with more than three vowels using list\n",
    "comprehension."
   ]
  },
  {
   "cell_type": "code",
   "execution_count": 33,
   "id": "6b9772df-8325-4b79-9155-71ed3b2dd21b",
   "metadata": {},
   "outputs": [
    {
     "name": "stdout",
     "output_type": "stream",
     "text": [
      "Strings with more than three vowels: ['rajaraam', 'seeetaram']\n"
     ]
    }
   ],
   "source": [
    "# Function to count vowels in a string\n",
    "def count_vowels(s):\n",
    "    vowels = \"AEIOUaeiou\"\n",
    "    return sum(1 for i in s if i in vowels)\n",
    "\n",
    "# List of strings\n",
    "string_list = ['sai','kumar','rajaraam','seeetaram']\n",
    "\n",
    "# Filter strings with more than three vowels using list comprehension\n",
    "filtered_list = [s for s in string_list if count_vowels(s) > 3]\n",
    "\n",
    "# Print the filtered list\n",
    "print(\"Strings with more than three vowels:\", filtered_list)"
   ]
  },
  {
   "cell_type": "markdown",
   "id": "4c7b17b4-ccbd-47e1-9603-bbcc6580ee5b",
   "metadata": {},
   "source": [
    "39. Develop a program that calculates the sum of the digits of numbers from 1 to 1000 using list\n",
    "comprehension."
   ]
  },
  {
   "cell_type": "code",
   "execution_count": 35,
   "id": "57ccb704-1b00-4511-97b2-9e0f1dcfaf6e",
   "metadata": {},
   "outputs": [
    {
     "data": {
      "text/plain": [
       "500500"
      ]
     },
     "execution_count": 35,
     "metadata": {},
     "output_type": "execute_result"
    }
   ],
   "source": [
    "sum([x for x in range(1,1001)])"
   ]
  },
  {
   "cell_type": "markdown",
   "id": "f7472e76-de87-415e-abb5-bf4e23118737",
   "metadata": {},
   "source": [
    "40. Write a program that generates a list of prime palindromic numbers using list comprehension."
   ]
  },
  {
   "cell_type": "code",
   "execution_count": 63,
   "id": "ed2aa98d-dbb3-4618-b804-3796d099be94",
   "metadata": {},
   "outputs": [
    {
     "name": "stdout",
     "output_type": "stream",
     "text": [
      "Prime Palindrome Numbers in the range 1 to 1000 :\n",
      "2\n",
      "3\n",
      "5\n",
      "7\n",
      "11\n",
      "101\n",
      "131\n",
      "151\n",
      "181\n",
      "191\n",
      "313\n",
      "353\n",
      "373\n",
      "383\n",
      "727\n",
      "757\n",
      "787\n",
      "797\n",
      "919\n",
      "929\n"
     ]
    }
   ],
   "source": [
    "def is_prime(num):\n",
    "    if num <= 1:\n",
    "        return False\n",
    "    if num == 2:\n",
    "        return True\n",
    "    if num % 2 == 0:\n",
    "        return False\n",
    "    for i in range(3, int(num**0.5) + 1, 2):\n",
    "        if num % i == 0:\n",
    "            return False\n",
    "    return True\n",
    "\n",
    "def is_palindrome(num):\n",
    "    return str(num) == str(num)[::-1]\n",
    "start = 1\n",
    "end = 1000  # You can adjust the range as needed\n",
    "\n",
    "# Print prime palindrome numbers within the specified range\n",
    "print(\"Prime Palindrome Numbers in the range\", start, \"to\", end, \":\")\n",
    "for num in range(start, end + 1):\n",
    "    if is_prime(num) and is_palindrome(num):\n",
    "        print(num)"
   ]
  },
  {
   "cell_type": "code",
   "execution_count": 64,
   "id": "c923114c-7611-4bc5-a1dc-460a3b6a1b42",
   "metadata": {},
   "outputs": [
    {
     "ename": "SyntaxError",
     "evalue": "'return' outside function (3957135044.py, line 3)",
     "output_type": "error",
     "traceback": [
      "\u001b[0;36m  Cell \u001b[0;32mIn[64], line 3\u001b[0;36m\u001b[0m\n\u001b[0;31m    return True\u001b[0m\n\u001b[0m    ^\u001b[0m\n\u001b[0;31mSyntaxError\u001b[0m\u001b[0;31m:\u001b[0m 'return' outside function\n"
     ]
    }
   ],
   "source": [
    "n = 10\n",
    "if i == 2:\n",
    "    return True\n",
    "for i in range(2,n):\n",
    "    if n % i != 0:\n",
    "        print(n)"
   ]
  },
  {
   "cell_type": "code",
   "execution_count": null,
   "id": "5a63df77-5360-4ed7-ab4e-d84040dfb6d1",
   "metadata": {},
   "outputs": [],
   "source": []
  }
 ],
 "metadata": {
  "kernelspec": {
   "display_name": "Python 3 (ipykernel)",
   "language": "python",
   "name": "python3"
  },
  "language_info": {
   "codemirror_mode": {
    "name": "ipython",
    "version": 3
   },
   "file_extension": ".py",
   "mimetype": "text/x-python",
   "name": "python",
   "nbconvert_exporter": "python",
   "pygments_lexer": "ipython3",
   "version": "3.10.8"
  }
 },
 "nbformat": 4,
 "nbformat_minor": 5
}
